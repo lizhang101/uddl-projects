{
 "cells": [
  {
   "cell_type": "markdown",
   "metadata": {
    "colab_type": "text",
    "id": "kR-4eNdK6lYS"
   },
   "source": [
    "Deep Learning\n",
    "=============\n",
    "\n",
    "Assignment 3\n",
    "------------\n",
    "\n",
    "Previously in `2_fullyconnected.ipynb`, you trained a logistic regression and a neural network model.\n",
    "\n",
    "The goal of this assignment is to explore regularization techniques."
   ]
  },
  {
   "cell_type": "code",
   "execution_count": 1,
   "metadata": {
    "cellView": "both",
    "colab": {
     "autoexec": {
      "startup": false,
      "wait_interval": 0
     }
    },
    "colab_type": "code",
    "collapsed": false,
    "id": "JLpLa8Jt7Vu4"
   },
   "outputs": [],
   "source": [
    "# These are all the modules we'll be using later. Make sure you can import them\n",
    "# before proceeding further.\n",
    "from __future__ import print_function\n",
    "import numpy as np\n",
    "import tensorflow as tf\n",
    "from six.moves import cPickle as pickle"
   ]
  },
  {
   "cell_type": "markdown",
   "metadata": {
    "colab_type": "text",
    "id": "1HrCK6e17WzV"
   },
   "source": [
    "First reload the data we generated in `1_notmnist.ipynb`."
   ]
  },
  {
   "cell_type": "code",
   "execution_count": 2,
   "metadata": {
    "cellView": "both",
    "colab": {
     "autoexec": {
      "startup": false,
      "wait_interval": 0
     },
     "output_extras": [
      {
       "item_id": 1
      }
     ]
    },
    "colab_type": "code",
    "collapsed": false,
    "executionInfo": {
     "elapsed": 11777,
     "status": "ok",
     "timestamp": 1449849322348,
     "user": {
      "color": "",
      "displayName": "",
      "isAnonymous": false,
      "isMe": true,
      "permissionId": "",
      "photoUrl": "",
      "sessionId": "0",
      "userId": ""
     },
     "user_tz": 480
    },
    "id": "y3-cj1bpmuxc",
    "outputId": "e03576f1-ebbe-4838-c388-f1777bcc9873"
   },
   "outputs": [
    {
     "name": "stdout",
     "output_type": "stream",
     "text": [
      "Training set (200000, 28, 28) (200000,)\n",
      "Validation set (10000, 28, 28) (10000,)\n",
      "Test set (10000, 28, 28) (10000,)\n"
     ]
    }
   ],
   "source": [
    "pickle_file = 'notMNIST.pickle'\n",
    "\n",
    "with open(pickle_file, 'rb') as f:\n",
    "  save = pickle.load(f)\n",
    "  train_dataset = save['train_dataset']\n",
    "  train_labels = save['train_labels']\n",
    "  valid_dataset = save['valid_dataset']\n",
    "  valid_labels = save['valid_labels']\n",
    "  test_dataset = save['test_dataset']\n",
    "  test_labels = save['test_labels']\n",
    "  del save  # hint to help gc free up memory\n",
    "  print('Training set', train_dataset.shape, train_labels.shape)\n",
    "  print('Validation set', valid_dataset.shape, valid_labels.shape)\n",
    "  print('Test set', test_dataset.shape, test_labels.shape)"
   ]
  },
  {
   "cell_type": "markdown",
   "metadata": {
    "colab_type": "text",
    "id": "L7aHrm6nGDMB"
   },
   "source": [
    "Reformat into a shape that's more adapted to the models we're going to train:\n",
    "- data as a flat matrix,\n",
    "- labels as float 1-hot encodings."
   ]
  },
  {
   "cell_type": "code",
   "execution_count": 3,
   "metadata": {
    "cellView": "both",
    "colab": {
     "autoexec": {
      "startup": false,
      "wait_interval": 0
     },
     "output_extras": [
      {
       "item_id": 1
      }
     ]
    },
    "colab_type": "code",
    "collapsed": false,
    "executionInfo": {
     "elapsed": 11728,
     "status": "ok",
     "timestamp": 1449849322356,
     "user": {
      "color": "",
      "displayName": "",
      "isAnonymous": false,
      "isMe": true,
      "permissionId": "",
      "photoUrl": "",
      "sessionId": "0",
      "userId": ""
     },
     "user_tz": 480
    },
    "id": "IRSyYiIIGIzS",
    "outputId": "3f8996ee-3574-4f44-c953-5c8a04636582"
   },
   "outputs": [
    {
     "name": "stdout",
     "output_type": "stream",
     "text": [
      "Training set (200000, 784) (200000, 10)\n",
      "Validation set (10000, 784) (10000, 10)\n",
      "Test set (10000, 784) (10000, 10)\n"
     ]
    }
   ],
   "source": [
    "image_size = 28\n",
    "num_labels = 10\n",
    "\n",
    "def reformat(dataset, labels):\n",
    "  dataset = dataset.reshape((-1, image_size * image_size)).astype(np.float32)\n",
    "  # Map 1 to [0.0, 1.0, 0.0 ...], 2 to [0.0, 0.0, 1.0 ...]\n",
    "  labels = (np.arange(num_labels) == labels[:,None]).astype(np.float32)\n",
    "  return dataset, labels\n",
    "train_dataset, train_labels = reformat(train_dataset, train_labels)\n",
    "valid_dataset, valid_labels = reformat(valid_dataset, valid_labels)\n",
    "test_dataset, test_labels = reformat(test_dataset, test_labels)\n",
    "print('Training set', train_dataset.shape, train_labels.shape)\n",
    "print('Validation set', valid_dataset.shape, valid_labels.shape)\n",
    "print('Test set', test_dataset.shape, test_labels.shape)"
   ]
  },
  {
   "cell_type": "code",
   "execution_count": 4,
   "metadata": {
    "cellView": "both",
    "colab": {
     "autoexec": {
      "startup": false,
      "wait_interval": 0
     }
    },
    "colab_type": "code",
    "collapsed": true,
    "id": "RajPLaL_ZW6w"
   },
   "outputs": [],
   "source": [
    "def accuracy(predictions, labels):\n",
    "  return (100.0 * np.sum(np.argmax(predictions, 1) == np.argmax(labels, 1))\n",
    "          / predictions.shape[0])"
   ]
  },
  {
   "cell_type": "markdown",
   "metadata": {
    "colab_type": "text",
    "id": "sgLbUAQ1CW-1"
   },
   "source": [
    "---\n",
    "Problem 1\n",
    "---------\n",
    "\n",
    "Introduce and tune L2 regularization for both logistic and neural network models. Remember that L2 amounts to adding a penalty on the norm of the weights to the loss. In TensorFlow, you can compute the L2 loss for a tensor `t` using `nn.l2_loss(t)`. The right amount of regularization should improve your validation / test accuracy.\n",
    "\n",
    "---"
   ]
  },
  {
   "cell_type": "code",
   "execution_count": 14,
   "metadata": {
    "collapsed": false
   },
   "outputs": [],
   "source": [
    "L2_weight = 0.5e-3\n",
    "n_hidden_nodes = 1024\n",
    "batch_size = 128\n",
    "\n",
    "graph = tf.Graph()\n",
    "with graph.as_default():\n",
    "\n",
    "  # Input data. For the training data, we use a placeholder that will be fed\n",
    "  # at run time with a training minibatch.\n",
    "  tf_train_dataset = tf.placeholder(tf.float32,\n",
    "                                    shape=(batch_size, image_size * image_size))\n",
    "  tf_train_labels = tf.placeholder(tf.float32, shape=(batch_size, num_labels))\n",
    "  tf_valid_dataset = tf.constant(valid_dataset)\n",
    "  tf_test_dataset = tf.constant(test_dataset)\n",
    "\n",
    "  def linear(x, w, b):\n",
    "    return tf.matmul(x, w) + b\n",
    "\n",
    "  # Variables.\n",
    "  with tf.name_scope('hidden'):\n",
    "      weights_01 = tf.Variable(\n",
    "        tf.truncated_normal([image_size * image_size, n_hidden_nodes]))\n",
    "      biases_01 = tf.Variable(tf.zeros([n_hidden_nodes]))\n",
    "      l2_reg_01 = tf.nn.l2_loss(weights_01)\n",
    "    \n",
    "  with tf.name_scope('output'):\n",
    "    \n",
    "      weights_12 = tf.Variable(\n",
    "        tf.truncated_normal([n_hidden_nodes, num_labels]))\n",
    "      biases_12 = tf.Variable(tf.zeros([num_labels]))\n",
    "      l2_reg_12 = tf.nn.l2_loss(weights_12)\n",
    "  \n",
    "  def predict(input_x): \n",
    "    z_01 = linear(input_x, weights_01, biases_01)\n",
    "    h1 = tf.nn.relu(z_01)\n",
    "    logits = linear(h1, weights_12, biases_12)\n",
    "    return logits\n",
    "    \n",
    "  def fit(data):\n",
    "      train_logits = predict(data)\n",
    "      loss = tf.reduce_mean(\n",
    "          tf.nn.softmax_cross_entropy_with_logits(labels=tf_train_labels, logits=train_logits))\n",
    "      total_loss = loss + L2_weight * (l2_reg_01+l2_reg_12)\n",
    "      return train_logits, total_loss\n",
    "\n",
    "  train_logits, loss = fit(tf_train_dataset)\n",
    "  optimizer = tf.train.GradientDescentOptimizer(0.5).minimize(loss)\n",
    "      \n",
    "\n",
    "\n",
    "  \n",
    "  # Predictions for the training, validation, and test data.\n",
    "  train_prediction = tf.nn.softmax(train_logits)\n",
    "  valid_prediction = tf.nn.softmax(predict(tf_valid_dataset))\n",
    "  test_prediction = tf.nn.softmax(predict(tf_test_dataset))"
   ]
  },
  {
   "cell_type": "code",
   "execution_count": 17,
   "metadata": {
    "collapsed": false
   },
   "outputs": [
    {
     "name": "stdout",
     "output_type": "stream",
     "text": [
      "Initialized\n",
      "Minibatch loss at step 0: 429.018494\n",
      "Minibatch accuracy: 14.1%\n",
      "Validation accuracy: 25.4%\n",
      "Minibatch loss at step 500: 150.146835\n",
      "Minibatch accuracy: 73.4%\n",
      "Validation accuracy: 78.7%\n",
      "Minibatch loss at step 1000: 96.076500\n",
      "Minibatch accuracy: 80.5%\n",
      "Validation accuracy: 81.5%\n",
      "Minibatch loss at step 1500: 75.196167\n",
      "Minibatch accuracy: 82.0%\n",
      "Validation accuracy: 81.7%\n",
      "Minibatch loss at step 2000: 55.950993\n",
      "Minibatch accuracy: 88.3%\n",
      "Validation accuracy: 82.9%\n",
      "Minibatch loss at step 2500: 43.528900\n",
      "Minibatch accuracy: 90.6%\n",
      "Validation accuracy: 84.0%\n",
      "Minibatch loss at step 3000: 34.071129\n",
      "Minibatch accuracy: 86.7%\n",
      "Validation accuracy: 84.5%\n",
      "Test accuracy: 91.3%\n"
     ]
    }
   ],
   "source": [
    "num_steps = 3001\n",
    "batch_size = 128\n",
    "\n",
    "\n",
    "def train(train_size):\n",
    "    with tf.Session(graph=graph) as session:\n",
    "      tf.global_variables_initializer().run()\n",
    "      print(\"Initialized\")\n",
    "      for step in range(num_steps):\n",
    "        # Pick an offset within the training data, which has been randomized.\n",
    "        # Note: we could use better randomization across epochs.\n",
    "        offset = (step * batch_size) % train_size\n",
    "        # Generate a minibatch.\n",
    "\n",
    "        batch_data = train_dataset[offset:(offset + batch_size), :]\n",
    "        batch_labels = train_labels[offset:(offset + batch_size), :]\n",
    "        # Prepare a dictionary telling the session where to feed the minibatch.\n",
    "        # The key of the dictionary is the placeholder node of the graph to be fed,\n",
    "        # and the value is the numpy array to feed to it.\n",
    "        feed_dict = {tf_train_dataset : batch_data, tf_train_labels : batch_labels}\n",
    "        _, l, predictions = session.run(\n",
    "          [optimizer, loss, train_prediction], feed_dict=feed_dict)\n",
    "        if (step % 500 == 0):\n",
    "          print(\"Minibatch loss at step %d: %f\" % (step, l))\n",
    "          print(\"Minibatch accuracy: %.1f%%\" % accuracy(predictions, batch_labels))\n",
    "          print(\"Validation accuracy: %.1f%%\" % accuracy(\n",
    "            valid_prediction.eval(), valid_labels))\n",
    "      print(\"Test accuracy: %.1f%%\" % accuracy(test_prediction.eval(), test_labels))\n",
    "train(train_labels.shape[0] - batch_size)"
   ]
  },
  {
   "cell_type": "markdown",
   "metadata": {
    "colab_type": "text",
    "id": "na8xX2yHZzNF"
   },
   "source": [
    "---\n",
    "Problem 2\n",
    "---------\n",
    "Let's demonstrate an extreme case of overfitting. Restrict your training data to just a few batches. What happens?\n",
    "\n",
    "---"
   ]
  },
  {
   "cell_type": "code",
   "execution_count": 19,
   "metadata": {
    "collapsed": false
   },
   "outputs": [
    {
     "name": "stdout",
     "output_type": "stream",
     "text": [
      "Initialized\n",
      "Minibatch loss at step 0: 613.153564\n",
      "Minibatch accuracy: 7.0%\n",
      "Validation accuracy: 27.3%\n",
      "Minibatch loss at step 500: 122.623756\n",
      "Minibatch accuracy: 100.0%\n",
      "Validation accuracy: 75.8%\n",
      "Minibatch loss at step 1000: 95.496506\n",
      "Minibatch accuracy: 100.0%\n",
      "Validation accuracy: 75.8%\n",
      "Minibatch loss at step 1500: 74.370445\n",
      "Minibatch accuracy: 100.0%\n",
      "Validation accuracy: 75.7%\n",
      "Minibatch loss at step 2000: 57.917953\n",
      "Minibatch accuracy: 100.0%\n",
      "Validation accuracy: 75.7%\n",
      "Minibatch loss at step 2500: 45.105164\n",
      "Minibatch accuracy: 100.0%\n",
      "Validation accuracy: 75.7%\n",
      "Minibatch loss at step 3000: 35.126888\n",
      "Minibatch accuracy: 100.0%\n",
      "Validation accuracy: 75.5%\n",
      "Test accuracy: 83.4%\n"
     ]
    }
   ],
   "source": [
    "train(batch_size*5)"
   ]
  },
  {
   "cell_type": "markdown",
   "metadata": {
    "colab_type": "text",
    "id": "ww3SCBUdlkRc"
   },
   "source": [
    "---\n",
    "Problem 3\n",
    "---------\n",
    "Introduce Dropout on the hidden layer of the neural network. Remember: Dropout should only be introduced during training, not evaluation, otherwise your evaluation results would be stochastic as well. TensorFlow provides `nn.dropout()` for that, but you have to make sure it's only inserted during training.\n",
    "\n",
    "What happens to our extreme overfitting case?\n",
    "\n",
    "---"
   ]
  },
  {
   "cell_type": "code",
   "execution_count": 37,
   "metadata": {
    "collapsed": false
   },
   "outputs": [],
   "source": [
    "L2_weight = 0.5e-3\n",
    "n_hidden_nodes = 1024\n",
    "batch_size = 128\n",
    "\n",
    "\n",
    "graph = tf.Graph()\n",
    "with graph.as_default():\n",
    "\n",
    "  # Input data. For the training data, we use a placeholder that will be fed\n",
    "  # at run time with a training minibatch.\n",
    "  tf_train_dataset = tf.placeholder(tf.float32,\n",
    "                                    shape=(batch_size, image_size * image_size))\n",
    "  tf_train_labels = tf.placeholder(tf.float32, shape=(batch_size, num_labels))\n",
    "  tf_valid_dataset = tf.constant(valid_dataset)\n",
    "  tf_test_dataset = tf.constant(test_dataset)\n",
    "  dropout_p = tf.placeholder(tf.float32)\n",
    "  no_dropout = tf.constant(1.0, tf.float32)\n",
    "  global_step = tf.Variable(0, trainable=False)  # count the number of steps taken.\n",
    "\n",
    "  def linear(x, w, b):\n",
    "    return tf.matmul(x, w) + b\n",
    "\n",
    "  # Variables.\n",
    "  with tf.name_scope('hidden'):\n",
    "      weights_01 = tf.Variable(\n",
    "        tf.truncated_normal([image_size * image_size, n_hidden_nodes]))\n",
    "      biases_01 = tf.Variable(tf.zeros([n_hidden_nodes]))\n",
    "      l2_reg_01 = tf.nn.l2_loss(weights_01)\n",
    "    \n",
    "  with tf.name_scope('output'):\n",
    "    \n",
    "      weights_12 = tf.Variable(\n",
    "        tf.truncated_normal([n_hidden_nodes, num_labels]))\n",
    "      biases_12 = tf.Variable(tf.zeros([num_labels]))\n",
    "      l2_reg_12 = tf.nn.l2_loss(weights_12)\n",
    "  \n",
    "  def predict(input_x, dropout_p): \n",
    "    z_01 = linear(input_x, weights_01, biases_01)\n",
    "    h1 = tf.nn.dropout(tf.nn.relu(z_01), dropout_p)\n",
    "    logits = linear(h1, weights_12, biases_12)\n",
    "    return logits\n",
    "    \n",
    "  def fit(data):\n",
    "      train_logits = predict(data, dropout_p)\n",
    "      loss = tf.reduce_mean(\n",
    "          tf.nn.softmax_cross_entropy_with_logits(labels=tf_train_labels, logits=train_logits))\n",
    "      total_loss = loss + L2_weight * (l2_reg_01+l2_reg_12)\n",
    "        \n",
    "      \n",
    "      \n",
    "      \n",
    "      return train_logits, total_loss\n",
    "\n",
    "  train_logits, loss = fit(tf_train_dataset)\n",
    "\n",
    "  learning_rate = tf.train.exponential_decay(0.5, global_step, 1000, 0.96)\n",
    "  optimizer = tf.train.GradientDescentOptimizer(learning_rate).minimize(loss, global_step=global_step)  \n",
    "\n",
    "\n",
    "  \n",
    "  # Predictions for the training, validation, and test data.\n",
    "  train_prediction = tf.nn.softmax(train_logits)\n",
    "  valid_prediction = tf.nn.softmax(predict(tf_valid_dataset, no_dropout))\n",
    "  test_prediction = tf.nn.softmax(predict(tf_test_dataset, no_dropout))"
   ]
  },
  {
   "cell_type": "code",
   "execution_count": 26,
   "metadata": {
    "collapsed": false
   },
   "outputs": [
    {
     "name": "stdout",
     "output_type": "stream",
     "text": [
      "Initialized\n",
      "Minibatch loss at step 0: 717.099915\n",
      "Minibatch accuracy: 8.6%\n",
      "Validation accuracy: 31.5%\n",
      "Minibatch loss at step 500: 123.444893\n",
      "Minibatch accuracy: 100.0%\n",
      "Validation accuracy: 78.1%\n",
      "Minibatch loss at step 1000: 96.296509\n",
      "Minibatch accuracy: 100.0%\n",
      "Validation accuracy: 78.4%\n",
      "Minibatch loss at step 1500: 75.134850\n",
      "Minibatch accuracy: 100.0%\n",
      "Validation accuracy: 77.6%\n",
      "Minibatch loss at step 2000: 58.634392\n",
      "Minibatch accuracy: 100.0%\n",
      "Validation accuracy: 78.3%\n",
      "Minibatch loss at step 2500: 45.782562\n",
      "Minibatch accuracy: 100.0%\n",
      "Validation accuracy: 78.2%\n",
      "Minibatch loss at step 3000: 35.757912\n",
      "Minibatch accuracy: 100.0%\n",
      "Validation accuracy: 78.4%\n",
      "Test accuracy: 85.6%\n"
     ]
    }
   ],
   "source": [
    "num_steps = 3001\n",
    "batch_size = 128\n",
    "\n",
    "\n",
    "def train(train_size, checkpoint=0):\n",
    "    with tf.Session(graph=graph) as session:\n",
    "\n",
    "      tf.global_variables_initializer().run()\n",
    "\n",
    "      print(\"Initialized\")\n",
    "      for step in range(num_steps):\n",
    "        # Pick an offset within the training data, which has been randomized.\n",
    "        # Note: we could use better randomization across epochs.\n",
    "        offset = (step * batch_size) % train_size\n",
    "        # Generate a minibatch.\n",
    "\n",
    "        batch_data = train_dataset[offset:(offset + batch_size), :]\n",
    "        batch_labels = train_labels[offset:(offset + batch_size), :]\n",
    "        # Prepare a dictionary telling the session where to feed the minibatch.\n",
    "        # The key of the dictionary is the placeholder node of the graph to be fed,\n",
    "        # and the value is the numpy array to feed to it.\n",
    "        feed_dict = {tf_train_dataset : batch_data, tf_train_labels : batch_labels, dropout_p:0.5}\n",
    "        _, l, predictions = session.run(\n",
    "          [optimizer, loss, train_prediction], feed_dict=feed_dict)\n",
    "        if (step % 500 == 0):\n",
    "          print(\"Minibatch loss at step %d: %f\" % (step, l))\n",
    "          print(\"Minibatch accuracy: %.1f%%\" % accuracy(predictions, batch_labels))\n",
    "          print(\"Validation accuracy: %.1f%%\" % accuracy(\n",
    "            valid_prediction.eval(), valid_labels))\n",
    "      print(\"Test accuracy: %.1f%%\" % accuracy(test_prediction.eval(), test_labels))\n",
    "train(batch_size*5)"
   ]
  },
  {
   "cell_type": "code",
   "execution_count": 39,
   "metadata": {
    "collapsed": false
   },
   "outputs": [
    {
     "name": "stdout",
     "output_type": "stream",
     "text": [
      "Initialized\n",
      "Minibatch loss at step 0: 717.110168\n",
      "Minibatch accuracy: 9.4%\n",
      "Validation accuracy: 25.4%\n",
      "Minibatch loss at step 500: 170.114166\n",
      "Minibatch accuracy: 73.4%\n",
      "Validation accuracy: 80.5%\n",
      "Minibatch loss at step 1000: 101.275696\n",
      "Minibatch accuracy: 67.2%\n",
      "Validation accuracy: 79.4%\n",
      "Minibatch loss at step 1500: 82.181480\n",
      "Minibatch accuracy: 77.3%\n",
      "Validation accuracy: 80.2%\n",
      "Minibatch loss at step 2000: 60.511639\n",
      "Minibatch accuracy: 76.6%\n",
      "Validation accuracy: 80.6%\n",
      "Minibatch loss at step 2500: 47.042233\n",
      "Minibatch accuracy: 80.5%\n",
      "Validation accuracy: 81.9%\n",
      "Minibatch loss at step 3000: 38.076504\n",
      "Minibatch accuracy: 82.0%\n",
      "Validation accuracy: 82.9%\n",
      "Minibatch loss at step 3500: 29.736393\n",
      "Minibatch accuracy: 85.9%\n",
      "Validation accuracy: 83.6%\n",
      "Minibatch loss at step 4000: 24.397171\n",
      "Minibatch accuracy: 80.5%\n",
      "Validation accuracy: 84.4%\n",
      "Minibatch loss at step 4500: 19.572409\n",
      "Minibatch accuracy: 81.2%\n",
      "Validation accuracy: 85.1%\n",
      "Minibatch loss at step 5000: 16.036076\n",
      "Minibatch accuracy: 80.5%\n",
      "Validation accuracy: 85.2%\n",
      "Minibatch loss at step 5500: 13.345738\n",
      "Minibatch accuracy: 78.9%\n",
      "Validation accuracy: 85.8%\n",
      "Minibatch loss at step 6000: 10.907341\n",
      "Minibatch accuracy: 83.6%\n",
      "Validation accuracy: 85.8%\n",
      "Minibatch loss at step 6500: 8.969754\n",
      "Minibatch accuracy: 85.2%\n",
      "Validation accuracy: 86.2%\n",
      "Minibatch loss at step 7000: 7.522630\n",
      "Minibatch accuracy: 86.7%\n",
      "Validation accuracy: 86.6%\n",
      "Minibatch loss at step 7500: 6.447414\n",
      "Minibatch accuracy: 79.7%\n",
      "Validation accuracy: 86.6%\n",
      "Minibatch loss at step 8000: 5.478270\n",
      "Minibatch accuracy: 86.7%\n",
      "Validation accuracy: 86.5%\n",
      "Minibatch loss at step 8500: 4.564394\n",
      "Minibatch accuracy: 85.9%\n",
      "Validation accuracy: 87.0%\n",
      "Minibatch loss at step 9000: 3.826584\n",
      "Minibatch accuracy: 89.1%\n",
      "Validation accuracy: 86.9%\n",
      "Minibatch loss at step 9500: 3.451265\n",
      "Minibatch accuracy: 89.8%\n",
      "Validation accuracy: 87.1%\n",
      "Minibatch loss at step 10000: 3.006244\n",
      "Minibatch accuracy: 85.9%\n",
      "Validation accuracy: 87.5%\n",
      "Test accuracy: 93.8%\n"
     ]
    }
   ],
   "source": [
    "num_steps = 10001\n",
    "train(train_labels.shape[0] - batch_size)"
   ]
  },
  {
   "cell_type": "markdown",
   "metadata": {
    "colab_type": "text",
    "id": "-b1hTz3VWZjw"
   },
   "source": [
    "---\n",
    "Problem 4\n",
    "---------\n",
    "\n",
    "Try to get the best performance you can using a multi-layer model! The best reported test accuracy using a deep network is [97.1%](http://yaroslavvb.blogspot.com/2011/09/notmnist-dataset.html?showComment=1391023266211#c8758720086795711595).\n",
    "\n",
    "One avenue you can explore is to add multiple layers.\n",
    "\n",
    "Another one is to use learning rate decay:\n",
    "\n",
    "    global_step = tf.Variable(0)  # count the number of steps taken.\n",
    "    learning_rate = tf.train.exponential_decay(0.5, global_step, ...)\n",
    "    optimizer = tf.train.GradientDescentOptimizer(learning_rate).minimize(loss, global_step=global_step)\n",
    " \n",
    " ---\n"
   ]
  }
 ],
 "metadata": {
  "colab": {
   "default_view": {},
   "name": "3_regularization.ipynb",
   "provenance": [],
   "version": "0.3.2",
   "views": {}
  },
  "kernelspec": {
   "display_name": "tf1.0-py3.5",
   "language": "python",
   "name": "tf1.0"
  },
  "language_info": {
   "codemirror_mode": {
    "name": "ipython",
    "version": 3
   },
   "file_extension": ".py",
   "mimetype": "text/x-python",
   "name": "python",
   "nbconvert_exporter": "python",
   "pygments_lexer": "ipython3",
   "version": "3.5.2"
  }
 },
 "nbformat": 4,
 "nbformat_minor": 0
}
